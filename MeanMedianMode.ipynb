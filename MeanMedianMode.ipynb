{
 "cells": [
  {
   "cell_type": "markdown",
   "metadata": {},
   "source": [
    "# Mean, Median, Mode, and introducing NumPy"
   ]
  },
  {
   "cell_type": "markdown",
   "metadata": {},
   "source": [
    "## Mean vs. Median"
   ]
  },
  {
   "cell_type": "markdown",
   "metadata": {},
   "source": [
    "Let's create some fake income data, centered around 27,000 with a normal distribution and standard deviation of 15,000, with 10,000 data points. (We'll discuss those terms more later, if you're not familiar with them.)\n",
    "\n",
    "Then, compute the mean (average) - it should be close to 27,000:"
   ]
  },
  {
   "cell_type": "code",
   "execution_count": 2,
   "metadata": {},
   "outputs": [
    {
     "data": {
      "text/plain": [
       "27010.448687494718"
      ]
     },
     "execution_count": 2,
     "metadata": {},
     "output_type": "execute_result"
    }
   ],
   "source": [
    "import numpy as np\n",
    "\n",
    "incomes = np.random.normal(27000, 15000, 10000)\n",
    "np.mean(incomes)"
   ]
  },
  {
   "cell_type": "markdown",
   "metadata": {},
   "source": [
    "We can segment the income data into 50 buckets, and plot it as a histogram:"
   ]
  },
  {
   "cell_type": "code",
   "execution_count": 3,
   "metadata": {},
   "outputs": [
    {
     "data": {
      "image/png": "[encoded data removed]",
      "text/plain": [
       "<Figure size 432x288 with 1 Axes>"
      ]
     },
     "metadata": {
      "needs_background": "light"
     },
     "output_type": "display_data"
    }
   ],
   "source": [
    "%matplotlib inline\n",
    "import matplotlib.pyplot as plt\n",
    "plt.hist(incomes, 50)\n",
    "plt.show()"
   ]
  },
  {
   "cell_type": "markdown",
   "metadata": {},
   "source": [
    "Now compute the median - since we have a nice, even distribution it too should be close to 27,000:"
   ]
  },
  {
   "cell_type": "code",
   "execution_count": 3,
   "metadata": {},
   "outputs": [
    {
     "data": {
      "text/plain": [
       "27195.153719614136"
      ]
     },
     "execution_count": 3,
     "metadata": {},
     "output_type": "execute_result"
    }
   ],
   "source": [
    "np.median(incomes)"
   ]
  },
  {
   "cell_type": "markdown",
   "metadata": {},
   "source": [
    "Now we'll add Donald Trump into the mix. Darn income inequality!"
   ]
  },
  {
   "cell_type": "code",
   "execution_count": 4,
   "metadata": {},
   "outputs": [],
   "source": [
    "incomes = np.append(incomes, [1000000000])"
   ]
  },
  {
   "cell_type": "markdown",
   "metadata": {},
   "source": [
    "The median won't change much, but the mean does:"
   ]
  },
  {
   "cell_type": "code",
   "execution_count": 5,
   "metadata": {},
   "outputs": [
    {
     "data": {
      "text/plain": [
       "26947.556093379346"
      ]
     },
     "execution_count": 5,
     "metadata": {},
     "output_type": "execute_result"
    }
   ],
   "source": [
    "np.median(incomes)"
   ]
  },
  {
   "cell_type": "code",
   "execution_count": 7,
   "metadata": {},
   "outputs": [
    {
     "data": {
      "text/plain": [
       "27010.448687494718"
      ]
     },
     "execution_count": 7,
     "metadata": {},
     "output_type": "execute_result"
    }
   ],
   "source": [
    "np.mean(incomes)"
   ]
  },
  {
   "cell_type": "markdown",
   "metadata": {},
   "source": [
    "## Mode"
   ]
  },
  {
   "cell_type": "markdown",
   "metadata": {},
   "source": [
    "Next, let's generate some fake age data for 500 people:"
   ]
  },
  {
   "cell_type": "code",
   "execution_count": 8,
   "metadata": {},
   "outputs": [
    {
     "data": {
      "text/plain": [
       "array([23, 37, 50, 20, 47, 20, 50, 51, 80, 48, 56, 50, 36, 81, 71, 56, 30,\n",
       "       66, 80, 19, 34, 79, 57, 65, 42, 55, 37, 60, 42, 79, 50, 85, 68, 50,\n",
       "       56, 71, 72, 33, 74, 23, 18, 67, 67, 80, 54, 80, 26, 73, 53, 89, 62,\n",
       "       48, 42, 65, 29, 85, 32, 27, 82, 38, 72, 76, 41, 37, 30, 78, 76, 54,\n",
       "       78, 37, 78, 18, 35, 43, 27, 44, 30, 62, 63, 50, 34, 52, 20, 64, 30,\n",
       "       66, 46, 50, 21, 32, 27, 28, 39, 50, 46, 66, 53, 50, 63, 59, 18, 27,\n",
       "       82, 81, 57, 18, 18, 37, 84, 19, 24, 65, 65, 47, 19, 53, 77, 32, 65,\n",
       "       81, 58, 40, 25, 66, 62, 80, 46, 67, 26, 30, 49, 88, 80, 50, 24, 87,\n",
       "       20, 25, 79, 77, 42, 40, 78, 44, 81, 46, 84, 29, 38, 21, 58, 34, 64,\n",
       "       53, 41, 49, 68, 40, 57, 43, 39, 58, 89, 83, 74, 51, 78, 62, 56, 22,\n",
       "       74, 45, 74, 43, 69, 82, 47, 66, 18, 37, 88, 56, 62, 72, 83, 58, 79,\n",
       "       18, 58, 59, 33, 75, 23, 41, 77, 50, 79, 27, 72, 87, 23, 63, 65, 32,\n",
       "       62, 28, 84, 39, 62, 33, 48, 33, 67, 75, 66, 23, 20, 81, 86, 65, 30,\n",
       "       86, 47, 39, 38, 49, 82, 30, 52, 23, 75, 64, 48, 53, 58, 48, 78, 73,\n",
       "       54, 81, 89, 39, 87, 88, 37, 39, 52, 52, 59, 70, 59, 64, 74, 63, 33,\n",
       "       45, 37, 39, 80, 81, 83, 58, 82, 56, 45, 38, 67, 30, 19, 72, 85, 73,\n",
       "       61, 38, 86, 57, 19, 25, 63, 40, 21, 25, 24, 42, 86, 53, 36, 40, 47,\n",
       "       31, 53, 54, 44, 85, 33, 40, 45, 64, 32, 64, 44, 52, 36, 62, 81, 44,\n",
       "       27, 48, 42, 18, 42, 60, 19, 85, 41, 41, 22, 45, 41, 65, 53, 66, 18,\n",
       "       83, 89, 81, 73, 33, 62, 83, 87, 69, 59, 20, 72, 21, 26, 80, 62, 53,\n",
       "       50, 44, 19, 30, 28, 52, 57, 37, 61, 64, 26, 74, 24, 59, 84, 59, 40,\n",
       "       21, 57, 26, 52, 66, 85, 65, 59, 36, 68, 57, 81, 40, 56, 43, 59, 74,\n",
       "       85, 73, 28, 38, 53, 47, 65, 89, 65, 63, 36, 66, 59, 66, 34, 58, 47,\n",
       "       55, 53, 42, 49, 71, 30, 63, 37, 39, 51, 33, 63, 62, 71, 34, 64, 53,\n",
       "       78, 38, 82, 21, 20, 67, 34, 24, 37, 54, 38, 67, 66, 39, 64, 34, 23,\n",
       "       74, 65, 71, 38, 66, 23, 72, 79, 67, 81, 43, 43, 46, 69, 20, 64, 18,\n",
       "       31, 20, 65, 22, 23, 78, 52, 75, 87, 18, 68, 75, 86, 45, 56, 66, 38,\n",
       "       20, 39, 68, 71, 87, 42, 64, 41, 73, 45, 44, 51, 37, 72, 85, 60, 80,\n",
       "       59, 70, 63, 41, 51, 51, 28, 26, 54, 56, 56, 88, 23, 85, 31, 79, 38,\n",
       "       74, 69, 84, 60, 88, 57, 34])"
      ]
     },
     "execution_count": 8,
     "metadata": {},
     "output_type": "execute_result"
    }
   ],
   "source": [
    "ages = np.random.randint(18, high=90, size=500)\n",
    "ages"
   ]
  },
  {
   "cell_type": "code",
   "execution_count": 9,
   "metadata": {},
   "outputs": [
    {
     "data": {
      "text/plain": [
       "ModeResult(mode=array([65]), count=array([13]))"
      ]
     },
     "execution_count": 9,
     "metadata": {},
     "output_type": "execute_result"
    }
   ],
   "source": [
    "from scipy import stats\n",
    "stats.mode(ages)"
   ]
  },
  {
   "cell_type": "code",
   "execution_count": null,
   "metadata": {},
   "outputs": [],
   "source": []
  }
 ],
 "metadata": {
  "kernelspec": {
   "display_name": "Python 3",
   "language": "python",
   "name": "python3"
  },
  "language_info": {
   "codemirror_mode": {
    "name": "ipython",
    "version": 3
   },
   "file_extension": ".py",
   "mimetype": "text/x-python",
   "name": "python",
   "nbconvert_exporter": "python",
   "pygments_lexer": "ipython3",
   "version": "3.7.3"
  }
 },
 "nbformat": 4,
 "nbformat_minor": 1
}
